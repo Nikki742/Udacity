{
 "cells": [
  {
   "cell_type": "markdown",
   "metadata": {},
   "source": [
    "# Introduction"
   ]
  },
  {
   "cell_type": "markdown",
   "metadata": {},
   "source": [
    "This database including 10866 movies id and informations of them. I will clean the database and visualize data through charts."
   ]
  },
  {
   "cell_type": "markdown",
   "metadata": {},
   "source": [
    "Questions:\n",
    "* 1 How is popularity trending over time?\n",
    "\n",
    "* 2 How are revenues trending over time?\n",
    "\n",
    "* 3 How is runtime trending over time?\n",
    "\n",
    "* 4 Do top ratings movies always generate big revenue?\n",
    "\n",
    "* 5 Do higher budget movies always generate big revenue?\n",
    "\n",
    "* 6 Is there any impact of vote count on revenue?"
   ]
  },
  {
   "cell_type": "code",
   "execution_count": 57,
   "metadata": {},
   "outputs": [],
   "source": [
    "import pandas as pd\n",
    "import math\n",
    "import matplotlib.pyplot as plt\n",
    "%matplotlib inline"
   ]
  },
  {
   "cell_type": "code",
   "execution_count": 37,
   "metadata": {},
   "outputs": [],
   "source": [
    "movie = pd.read_csv('./tmdb-movies.csv')"
   ]
  },
  {
   "cell_type": "code",
   "execution_count": 38,
   "metadata": {},
   "outputs": [
    {
     "data": {
      "text/html": [
       "<div>\n",
       "<style scoped>\n",
       "    .dataframe tbody tr th:only-of-type {\n",
       "        vertical-align: middle;\n",
       "    }\n",
       "\n",
       "    .dataframe tbody tr th {\n",
       "        vertical-align: top;\n",
       "    }\n",
       "\n",
       "    .dataframe thead th {\n",
       "        text-align: right;\n",
       "    }\n",
       "</style>\n",
       "<table border=\"1\" class=\"dataframe\">\n",
       "  <thead>\n",
       "    <tr style=\"text-align: right;\">\n",
       "      <th></th>\n",
       "      <th>id</th>\n",
       "      <th>imdb_id</th>\n",
       "      <th>popularity</th>\n",
       "      <th>budget</th>\n",
       "      <th>revenue</th>\n",
       "      <th>original_title</th>\n",
       "      <th>cast</th>\n",
       "      <th>homepage</th>\n",
       "      <th>director</th>\n",
       "      <th>tagline</th>\n",
       "      <th>...</th>\n",
       "      <th>overview</th>\n",
       "      <th>runtime</th>\n",
       "      <th>genres</th>\n",
       "      <th>production_companies</th>\n",
       "      <th>release_date</th>\n",
       "      <th>vote_count</th>\n",
       "      <th>vote_average</th>\n",
       "      <th>release_year</th>\n",
       "      <th>budget_adj</th>\n",
       "      <th>revenue_adj</th>\n",
       "    </tr>\n",
       "  </thead>\n",
       "  <tbody>\n",
       "    <tr>\n",
       "      <th>0</th>\n",
       "      <td>135397</td>\n",
       "      <td>tt0369610</td>\n",
       "      <td>32.985763</td>\n",
       "      <td>150000000</td>\n",
       "      <td>1513528810</td>\n",
       "      <td>Jurassic World</td>\n",
       "      <td>Chris Pratt|Bryce Dallas Howard|Irrfan Khan|Vi...</td>\n",
       "      <td>http://www.jurassicworld.com/</td>\n",
       "      <td>Colin Trevorrow</td>\n",
       "      <td>The park is open.</td>\n",
       "      <td>...</td>\n",
       "      <td>Twenty-two years after the events of Jurassic ...</td>\n",
       "      <td>124</td>\n",
       "      <td>Action|Adventure|Science Fiction|Thriller</td>\n",
       "      <td>Universal Studios|Amblin Entertainment|Legenda...</td>\n",
       "      <td>6/9/15</td>\n",
       "      <td>5562</td>\n",
       "      <td>6.5</td>\n",
       "      <td>2015</td>\n",
       "      <td>1.379999e+08</td>\n",
       "      <td>1.392446e+09</td>\n",
       "    </tr>\n",
       "  </tbody>\n",
       "</table>\n",
       "<p>1 rows × 21 columns</p>\n",
       "</div>"
      ],
      "text/plain": [
       "       id    imdb_id  popularity     budget     revenue  original_title  \\\n",
       "0  135397  tt0369610   32.985763  150000000  1513528810  Jurassic World   \n",
       "\n",
       "                                                cast  \\\n",
       "0  Chris Pratt|Bryce Dallas Howard|Irrfan Khan|Vi...   \n",
       "\n",
       "                        homepage         director            tagline  \\\n",
       "0  http://www.jurassicworld.com/  Colin Trevorrow  The park is open.   \n",
       "\n",
       "       ...                                                overview runtime  \\\n",
       "0      ...       Twenty-two years after the events of Jurassic ...     124   \n",
       "\n",
       "                                      genres  \\\n",
       "0  Action|Adventure|Science Fiction|Thriller   \n",
       "\n",
       "                                production_companies release_date vote_count  \\\n",
       "0  Universal Studios|Amblin Entertainment|Legenda...       6/9/15       5562   \n",
       "\n",
       "   vote_average  release_year    budget_adj   revenue_adj  \n",
       "0           6.5          2015  1.379999e+08  1.392446e+09  \n",
       "\n",
       "[1 rows x 21 columns]"
      ]
     },
     "execution_count": 38,
     "metadata": {},
     "output_type": "execute_result"
    }
   ],
   "source": [
    "movie.head(1)"
   ]
  },
  {
   "cell_type": "code",
   "execution_count": 39,
   "metadata": {},
   "outputs": [
    {
     "data": {
      "text/plain": [
       "(10866, 21)"
      ]
     },
     "execution_count": 39,
     "metadata": {},
     "output_type": "execute_result"
    }
   ],
   "source": [
    "movie.shape"
   ]
  },
  {
   "cell_type": "code",
   "execution_count": 40,
   "metadata": {
    "scrolled": false
   },
   "outputs": [
    {
     "name": "stdout",
     "output_type": "stream",
     "text": [
      "<class 'pandas.core.frame.DataFrame'>\n",
      "RangeIndex: 10866 entries, 0 to 10865\n",
      "Data columns (total 21 columns):\n",
      "id                      10866 non-null int64\n",
      "imdb_id                 10856 non-null object\n",
      "popularity              10866 non-null float64\n",
      "budget                  10866 non-null int64\n",
      "revenue                 10866 non-null int64\n",
      "original_title          10866 non-null object\n",
      "cast                    10790 non-null object\n",
      "homepage                2936 non-null object\n",
      "director                10822 non-null object\n",
      "tagline                 8042 non-null object\n",
      "keywords                9373 non-null object\n",
      "overview                10862 non-null object\n",
      "runtime                 10866 non-null int64\n",
      "genres                  10843 non-null object\n",
      "production_companies    9836 non-null object\n",
      "release_date            10866 non-null object\n",
      "vote_count              10866 non-null int64\n",
      "vote_average            10866 non-null float64\n",
      "release_year            10866 non-null int64\n",
      "budget_adj              10866 non-null float64\n",
      "revenue_adj             10866 non-null float64\n",
      "dtypes: float64(4), int64(6), object(11)\n",
      "memory usage: 1.7+ MB\n"
     ]
    }
   ],
   "source": [
    "movie.info()"
   ]
  },
  {
   "cell_type": "markdown",
   "metadata": {},
   "source": [
    "## Now that data is loaded, I will make following changes:"
   ]
  },
  {
   "cell_type": "markdown",
   "metadata": {},
   "source": [
    "* Remove useless columns\n",
    "* Remove rows with null values\n",
    "* Drop duplicates values\n",
    "* Some datatypes are wrong"
   ]
  },
  {
   "cell_type": "markdown",
   "metadata": {},
   "source": [
    "Define:\n",
    "Remove useless columns"
   ]
  },
  {
   "cell_type": "code",
   "execution_count": 41,
   "metadata": {},
   "outputs": [],
   "source": [
    "#Code\n",
    "#deleted columns \n",
    "deleted_columns = [ 'id', 'budget', 'revenue','original_title', 'homepage', 'keywords', 'tagline', 'overview', 'production_companies']\n",
    "#drop it from our data\n",
    "movie.drop(deleted_columns,axis = 1, inplace = True)"
   ]
  },
  {
   "cell_type": "code",
   "execution_count": 42,
   "metadata": {
    "scrolled": true
   },
   "outputs": [
    {
     "data": {
      "text/html": [
       "<div>\n",
       "<style scoped>\n",
       "    .dataframe tbody tr th:only-of-type {\n",
       "        vertical-align: middle;\n",
       "    }\n",
       "\n",
       "    .dataframe tbody tr th {\n",
       "        vertical-align: top;\n",
       "    }\n",
       "\n",
       "    .dataframe thead th {\n",
       "        text-align: right;\n",
       "    }\n",
       "</style>\n",
       "<table border=\"1\" class=\"dataframe\">\n",
       "  <thead>\n",
       "    <tr style=\"text-align: right;\">\n",
       "      <th></th>\n",
       "      <th>imdb_id</th>\n",
       "      <th>popularity</th>\n",
       "      <th>cast</th>\n",
       "      <th>director</th>\n",
       "      <th>runtime</th>\n",
       "      <th>genres</th>\n",
       "      <th>release_date</th>\n",
       "      <th>vote_count</th>\n",
       "      <th>vote_average</th>\n",
       "      <th>release_year</th>\n",
       "      <th>budget_adj</th>\n",
       "      <th>revenue_adj</th>\n",
       "    </tr>\n",
       "  </thead>\n",
       "  <tbody>\n",
       "    <tr>\n",
       "      <th>0</th>\n",
       "      <td>tt0369610</td>\n",
       "      <td>32.985763</td>\n",
       "      <td>Chris Pratt|Bryce Dallas Howard|Irrfan Khan|Vi...</td>\n",
       "      <td>Colin Trevorrow</td>\n",
       "      <td>124</td>\n",
       "      <td>Action|Adventure|Science Fiction|Thriller</td>\n",
       "      <td>6/9/15</td>\n",
       "      <td>5562</td>\n",
       "      <td>6.5</td>\n",
       "      <td>2015</td>\n",
       "      <td>1.379999e+08</td>\n",
       "      <td>1.392446e+09</td>\n",
       "    </tr>\n",
       "    <tr>\n",
       "      <th>1</th>\n",
       "      <td>tt1392190</td>\n",
       "      <td>28.419936</td>\n",
       "      <td>Tom Hardy|Charlize Theron|Hugh Keays-Byrne|Nic...</td>\n",
       "      <td>George Miller</td>\n",
       "      <td>120</td>\n",
       "      <td>Action|Adventure|Science Fiction|Thriller</td>\n",
       "      <td>5/13/15</td>\n",
       "      <td>6185</td>\n",
       "      <td>7.1</td>\n",
       "      <td>2015</td>\n",
       "      <td>1.379999e+08</td>\n",
       "      <td>3.481613e+08</td>\n",
       "    </tr>\n",
       "    <tr>\n",
       "      <th>2</th>\n",
       "      <td>tt2908446</td>\n",
       "      <td>13.112507</td>\n",
       "      <td>Shailene Woodley|Theo James|Kate Winslet|Ansel...</td>\n",
       "      <td>Robert Schwentke</td>\n",
       "      <td>119</td>\n",
       "      <td>Adventure|Science Fiction|Thriller</td>\n",
       "      <td>3/18/15</td>\n",
       "      <td>2480</td>\n",
       "      <td>6.3</td>\n",
       "      <td>2015</td>\n",
       "      <td>1.012000e+08</td>\n",
       "      <td>2.716190e+08</td>\n",
       "    </tr>\n",
       "    <tr>\n",
       "      <th>3</th>\n",
       "      <td>tt2488496</td>\n",
       "      <td>11.173104</td>\n",
       "      <td>Harrison Ford|Mark Hamill|Carrie Fisher|Adam D...</td>\n",
       "      <td>J.J. Abrams</td>\n",
       "      <td>136</td>\n",
       "      <td>Action|Adventure|Science Fiction|Fantasy</td>\n",
       "      <td>12/15/15</td>\n",
       "      <td>5292</td>\n",
       "      <td>7.5</td>\n",
       "      <td>2015</td>\n",
       "      <td>1.839999e+08</td>\n",
       "      <td>1.902723e+09</td>\n",
       "    </tr>\n",
       "    <tr>\n",
       "      <th>4</th>\n",
       "      <td>tt2820852</td>\n",
       "      <td>9.335014</td>\n",
       "      <td>Vin Diesel|Paul Walker|Jason Statham|Michelle ...</td>\n",
       "      <td>James Wan</td>\n",
       "      <td>137</td>\n",
       "      <td>Action|Crime|Thriller</td>\n",
       "      <td>4/1/15</td>\n",
       "      <td>2947</td>\n",
       "      <td>7.3</td>\n",
       "      <td>2015</td>\n",
       "      <td>1.747999e+08</td>\n",
       "      <td>1.385749e+09</td>\n",
       "    </tr>\n",
       "  </tbody>\n",
       "</table>\n",
       "</div>"
      ],
      "text/plain": [
       "     imdb_id  popularity                                               cast  \\\n",
       "0  tt0369610   32.985763  Chris Pratt|Bryce Dallas Howard|Irrfan Khan|Vi...   \n",
       "1  tt1392190   28.419936  Tom Hardy|Charlize Theron|Hugh Keays-Byrne|Nic...   \n",
       "2  tt2908446   13.112507  Shailene Woodley|Theo James|Kate Winslet|Ansel...   \n",
       "3  tt2488496   11.173104  Harrison Ford|Mark Hamill|Carrie Fisher|Adam D...   \n",
       "4  tt2820852    9.335014  Vin Diesel|Paul Walker|Jason Statham|Michelle ...   \n",
       "\n",
       "           director  runtime                                     genres  \\\n",
       "0   Colin Trevorrow      124  Action|Adventure|Science Fiction|Thriller   \n",
       "1     George Miller      120  Action|Adventure|Science Fiction|Thriller   \n",
       "2  Robert Schwentke      119         Adventure|Science Fiction|Thriller   \n",
       "3       J.J. Abrams      136   Action|Adventure|Science Fiction|Fantasy   \n",
       "4         James Wan      137                      Action|Crime|Thriller   \n",
       "\n",
       "  release_date  vote_count  vote_average  release_year    budget_adj  \\\n",
       "0       6/9/15        5562           6.5          2015  1.379999e+08   \n",
       "1      5/13/15        6185           7.1          2015  1.379999e+08   \n",
       "2      3/18/15        2480           6.3          2015  1.012000e+08   \n",
       "3     12/15/15        5292           7.5          2015  1.839999e+08   \n",
       "4       4/1/15        2947           7.3          2015  1.747999e+08   \n",
       "\n",
       "    revenue_adj  \n",
       "0  1.392446e+09  \n",
       "1  3.481613e+08  \n",
       "2  2.716190e+08  \n",
       "3  1.902723e+09  \n",
       "4  1.385749e+09  "
      ]
     },
     "execution_count": 42,
     "metadata": {},
     "output_type": "execute_result"
    }
   ],
   "source": [
    "#Test\n",
    "movie.head()"
   ]
  },
  {
   "cell_type": "markdown",
   "metadata": {},
   "source": [
    "Define: Remove rows with null values"
   ]
  },
  {
   "cell_type": "code",
   "execution_count": 43,
   "metadata": {},
   "outputs": [],
   "source": [
    "#Code\n",
    "movie.dropna(axis = 0,inplace = True)"
   ]
  },
  {
   "cell_type": "code",
   "execution_count": 45,
   "metadata": {},
   "outputs": [
    {
     "name": "stdout",
     "output_type": "stream",
     "text": [
      "<class 'pandas.core.frame.DataFrame'>\n",
      "Int64Index: 10727 entries, 0 to 10865\n",
      "Data columns (total 12 columns):\n",
      "imdb_id         10727 non-null object\n",
      "popularity      10727 non-null float64\n",
      "cast            10727 non-null object\n",
      "director        10727 non-null object\n",
      "runtime         10727 non-null int64\n",
      "genres          10727 non-null object\n",
      "release_date    10727 non-null object\n",
      "vote_count      10727 non-null int64\n",
      "vote_average    10727 non-null float64\n",
      "release_year    10727 non-null int64\n",
      "budget_adj      10727 non-null float64\n",
      "revenue_adj     10727 non-null float64\n",
      "dtypes: float64(4), int64(3), object(5)\n",
      "memory usage: 1.1+ MB\n"
     ]
    }
   ],
   "source": [
    "#Test\n",
    "movie.info()"
   ]
  },
  {
   "cell_type": "markdown",
   "metadata": {},
   "source": [
    "Define: Drop duplicates values"
   ]
  },
  {
   "cell_type": "code",
   "execution_count": 46,
   "metadata": {},
   "outputs": [],
   "source": [
    "#Code\n",
    "movie.drop_duplicates(inplace = True)"
   ]
  },
  {
   "cell_type": "code",
   "execution_count": 47,
   "metadata": {},
   "outputs": [
    {
     "data": {
      "text/plain": [
       "0"
      ]
     },
     "execution_count": 47,
     "metadata": {},
     "output_type": "execute_result"
    }
   ],
   "source": [
    "#Test\n",
    "sum(movie.imdb_id.duplicated())"
   ]
  },
  {
   "cell_type": "markdown",
   "metadata": {},
   "source": [
    "Define\n",
    "Correct datatype"
   ]
  },
  {
   "cell_type": "code",
   "execution_count": 48,
   "metadata": {},
   "outputs": [],
   "source": [
    "#Code\n",
    "movie['release_date'] = pd.to_datetime(movie['release_date'])\n",
    "movie['budget_adj'] = movie['budget_adj'].astype('int64') \n",
    "movie['revenue_adj'] = movie['revenue_adj'].astype('int64') "
   ]
  },
  {
   "cell_type": "code",
   "execution_count": 49,
   "metadata": {
    "scrolled": true
   },
   "outputs": [
    {
     "name": "stdout",
     "output_type": "stream",
     "text": [
      "<class 'pandas.core.frame.DataFrame'>\n",
      "Int64Index: 10726 entries, 0 to 10865\n",
      "Data columns (total 12 columns):\n",
      "imdb_id         10726 non-null object\n",
      "popularity      10726 non-null float64\n",
      "cast            10726 non-null object\n",
      "director        10726 non-null object\n",
      "runtime         10726 non-null int64\n",
      "genres          10726 non-null object\n",
      "release_date    10726 non-null datetime64[ns]\n",
      "vote_count      10726 non-null int64\n",
      "vote_average    10726 non-null float64\n",
      "release_year    10726 non-null int64\n",
      "budget_adj      10726 non-null int64\n",
      "revenue_adj     10726 non-null int64\n",
      "dtypes: datetime64[ns](1), float64(2), int64(5), object(4)\n",
      "memory usage: 1.1+ MB\n"
     ]
    }
   ],
   "source": [
    "#Test\n",
    "movie.info()"
   ]
  },
  {
   "cell_type": "code",
   "execution_count": 50,
   "metadata": {},
   "outputs": [
    {
     "data": {
      "text/html": [
       "<div>\n",
       "<style scoped>\n",
       "    .dataframe tbody tr th:only-of-type {\n",
       "        vertical-align: middle;\n",
       "    }\n",
       "\n",
       "    .dataframe tbody tr th {\n",
       "        vertical-align: top;\n",
       "    }\n",
       "\n",
       "    .dataframe thead th {\n",
       "        text-align: right;\n",
       "    }\n",
       "</style>\n",
       "<table border=\"1\" class=\"dataframe\">\n",
       "  <thead>\n",
       "    <tr style=\"text-align: right;\">\n",
       "      <th></th>\n",
       "      <th>imdb_id</th>\n",
       "      <th>popularity</th>\n",
       "      <th>cast</th>\n",
       "      <th>director</th>\n",
       "      <th>runtime</th>\n",
       "      <th>genres</th>\n",
       "      <th>release_date</th>\n",
       "      <th>vote_count</th>\n",
       "      <th>vote_average</th>\n",
       "      <th>release_year</th>\n",
       "      <th>budget_adj</th>\n",
       "      <th>revenue_adj</th>\n",
       "    </tr>\n",
       "  </thead>\n",
       "  <tbody>\n",
       "    <tr>\n",
       "      <th>0</th>\n",
       "      <td>tt0369610</td>\n",
       "      <td>32.985763</td>\n",
       "      <td>Chris Pratt|Bryce Dallas Howard|Irrfan Khan|Vi...</td>\n",
       "      <td>Colin Trevorrow</td>\n",
       "      <td>124</td>\n",
       "      <td>Action|Adventure|Science Fiction|Thriller</td>\n",
       "      <td>2015-06-09</td>\n",
       "      <td>5562</td>\n",
       "      <td>6.5</td>\n",
       "      <td>2015</td>\n",
       "      <td>137999939</td>\n",
       "      <td>1392445892</td>\n",
       "    </tr>\n",
       "    <tr>\n",
       "      <th>1</th>\n",
       "      <td>tt1392190</td>\n",
       "      <td>28.419936</td>\n",
       "      <td>Tom Hardy|Charlize Theron|Hugh Keays-Byrne|Nic...</td>\n",
       "      <td>George Miller</td>\n",
       "      <td>120</td>\n",
       "      <td>Action|Adventure|Science Fiction|Thriller</td>\n",
       "      <td>2015-05-13</td>\n",
       "      <td>6185</td>\n",
       "      <td>7.1</td>\n",
       "      <td>2015</td>\n",
       "      <td>137999939</td>\n",
       "      <td>348161292</td>\n",
       "    </tr>\n",
       "    <tr>\n",
       "      <th>2</th>\n",
       "      <td>tt2908446</td>\n",
       "      <td>13.112507</td>\n",
       "      <td>Shailene Woodley|Theo James|Kate Winslet|Ansel...</td>\n",
       "      <td>Robert Schwentke</td>\n",
       "      <td>119</td>\n",
       "      <td>Adventure|Science Fiction|Thriller</td>\n",
       "      <td>2015-03-18</td>\n",
       "      <td>2480</td>\n",
       "      <td>6.3</td>\n",
       "      <td>2015</td>\n",
       "      <td>101199955</td>\n",
       "      <td>271619025</td>\n",
       "    </tr>\n",
       "    <tr>\n",
       "      <th>3</th>\n",
       "      <td>tt2488496</td>\n",
       "      <td>11.173104</td>\n",
       "      <td>Harrison Ford|Mark Hamill|Carrie Fisher|Adam D...</td>\n",
       "      <td>J.J. Abrams</td>\n",
       "      <td>136</td>\n",
       "      <td>Action|Adventure|Science Fiction|Fantasy</td>\n",
       "      <td>2015-12-15</td>\n",
       "      <td>5292</td>\n",
       "      <td>7.5</td>\n",
       "      <td>2015</td>\n",
       "      <td>183999919</td>\n",
       "      <td>1902723129</td>\n",
       "    </tr>\n",
       "    <tr>\n",
       "      <th>4</th>\n",
       "      <td>tt2820852</td>\n",
       "      <td>9.335014</td>\n",
       "      <td>Vin Diesel|Paul Walker|Jason Statham|Michelle ...</td>\n",
       "      <td>James Wan</td>\n",
       "      <td>137</td>\n",
       "      <td>Action|Crime|Thriller</td>\n",
       "      <td>2015-04-01</td>\n",
       "      <td>2947</td>\n",
       "      <td>7.3</td>\n",
       "      <td>2015</td>\n",
       "      <td>174799923</td>\n",
       "      <td>1385748801</td>\n",
       "    </tr>\n",
       "  </tbody>\n",
       "</table>\n",
       "</div>"
      ],
      "text/plain": [
       "     imdb_id  popularity                                               cast  \\\n",
       "0  tt0369610   32.985763  Chris Pratt|Bryce Dallas Howard|Irrfan Khan|Vi...   \n",
       "1  tt1392190   28.419936  Tom Hardy|Charlize Theron|Hugh Keays-Byrne|Nic...   \n",
       "2  tt2908446   13.112507  Shailene Woodley|Theo James|Kate Winslet|Ansel...   \n",
       "3  tt2488496   11.173104  Harrison Ford|Mark Hamill|Carrie Fisher|Adam D...   \n",
       "4  tt2820852    9.335014  Vin Diesel|Paul Walker|Jason Statham|Michelle ...   \n",
       "\n",
       "           director  runtime                                     genres  \\\n",
       "0   Colin Trevorrow      124  Action|Adventure|Science Fiction|Thriller   \n",
       "1     George Miller      120  Action|Adventure|Science Fiction|Thriller   \n",
       "2  Robert Schwentke      119         Adventure|Science Fiction|Thriller   \n",
       "3       J.J. Abrams      136   Action|Adventure|Science Fiction|Fantasy   \n",
       "4         James Wan      137                      Action|Crime|Thriller   \n",
       "\n",
       "  release_date  vote_count  vote_average  release_year  budget_adj  \\\n",
       "0   2015-06-09        5562           6.5          2015   137999939   \n",
       "1   2015-05-13        6185           7.1          2015   137999939   \n",
       "2   2015-03-18        2480           6.3          2015   101199955   \n",
       "3   2015-12-15        5292           7.5          2015   183999919   \n",
       "4   2015-04-01        2947           7.3          2015   174799923   \n",
       "\n",
       "   revenue_adj  \n",
       "0   1392445892  \n",
       "1    348161292  \n",
       "2    271619025  \n",
       "3   1902723129  \n",
       "4   1385748801  "
      ]
     },
     "execution_count": 50,
     "metadata": {},
     "output_type": "execute_result"
    }
   ],
   "source": [
    "movie.head()"
   ]
  },
  {
   "cell_type": "markdown",
   "metadata": {},
   "source": [
    "Define \n",
    "Round up popularity score"
   ]
  },
  {
   "cell_type": "code",
   "execution_count": 51,
   "metadata": {},
   "outputs": [],
   "source": [
    "#Code\n",
    "movie['popularity'] = movie.popularity.round().astype(int)"
   ]
  },
  {
   "cell_type": "code",
   "execution_count": 52,
   "metadata": {},
   "outputs": [
    {
     "data": {
      "text/plain": [
       "0     6606\n",
       "1     3204\n",
       "2      540\n",
       "3      189\n",
       "4       72\n",
       "5       39\n",
       "6       36\n",
       "7       11\n",
       "8       10\n",
       "9        8\n",
       "11       3\n",
       "13       2\n",
       "28       1\n",
       "12       1\n",
       "14       1\n",
       "10       1\n",
       "33       1\n",
       "25       1\n",
       "Name: popularity, dtype: int64"
      ]
     },
     "execution_count": 52,
     "metadata": {},
     "output_type": "execute_result"
    }
   ],
   "source": [
    "#Test\n",
    "movie['popularity'].value_counts()"
   ]
  },
  {
   "cell_type": "markdown",
   "metadata": {},
   "source": [
    "Questions\n",
    "* 1 How is popularity trending over time?\n",
    "\n",
    "* 2 How are revenues trending over time?\n",
    "\n",
    "* 3 How is runtime trending over time?\n",
    "\n",
    "* 4 Do top ratings movies always generate big revenue?\n",
    "\n",
    "* 5 Do higher budget movies always generate big revenue?\n",
    "\n",
    "* 6 Is there any impact of vote count on revenue?"
   ]
  },
  {
   "cell_type": "markdown",
   "metadata": {},
   "source": [
    "#1 How is popularity trending over time?"
   ]
  },
  {
   "cell_type": "code",
   "execution_count": 92,
   "metadata": {
    "scrolled": true
   },
   "outputs": [
    {
     "data": {
      "text/plain": [
       "release_year\n",
       "1960    0.312500\n",
       "1961    0.322581\n",
       "1962    0.375000\n",
       "1963    0.470588\n",
       "1964    0.309524\n",
       "1965    0.200000\n",
       "1966    0.173913\n",
       "1967    0.421053\n",
       "1968    0.421053\n",
       "1969    0.333333\n",
       "1970    0.125000\n",
       "1971    0.345455\n",
       "1972    0.300000\n",
       "1973    0.400000\n",
       "1974    0.304348\n",
       "1975    0.386364\n",
       "1976    0.382979\n",
       "1977    0.500000\n",
       "1978    0.276923\n",
       "1979    0.473684\n",
       "1980    0.371795\n",
       "1981    0.329268\n",
       "1982    0.419753\n",
       "1983    0.437500\n",
       "1984    0.528846\n",
       "1985    0.527778\n",
       "1986    0.416667\n",
       "1987    0.362903\n",
       "1988    0.330986\n",
       "1989    0.429630\n",
       "1990    0.416667\n",
       "1991    0.368421\n",
       "1992    0.492424\n",
       "1993    0.485876\n",
       "1994    0.559783\n",
       "1995    0.643678\n",
       "1996    0.502463\n",
       "1997    0.638743\n",
       "1998    0.519048\n",
       "1999    0.558036\n",
       "2000    0.459821\n",
       "2001    0.614108\n",
       "2002    0.621212\n",
       "2003    0.619217\n",
       "2004    0.644951\n",
       "2005    0.534626\n",
       "2006    0.537129\n",
       "2007    0.500000\n",
       "2008    0.504115\n",
       "2009    0.499044\n",
       "2010    0.593684\n",
       "2011    0.580827\n",
       "2012    0.519164\n",
       "2013    0.533951\n",
       "2014    0.825513\n",
       "2015    0.941653\n",
       "Name: popularity, dtype: float64"
      ]
     },
     "execution_count": 92,
     "metadata": {},
     "output_type": "execute_result"
    }
   ],
   "source": [
    "pop_trending = movie.groupby(['release_year']).popularity.mean()\n",
    "pop_trending"
   ]
  },
  {
   "cell_type": "code",
   "execution_count": 93,
   "metadata": {},
   "outputs": [
    {
     "data": {
      "image/png": "[encoded data removed]",
      "text/plain": [
       "<matplotlib.figure.Figure at 0x7fd5e275a7b8>"
      ]
     },
     "metadata": {
      "needs_background": "light"
     },
     "output_type": "display_data"
    }
   ],
   "source": [
    "w = 10\n",
    "n = math.ceil((pop_trending.index.max() - \\\n",
    "               pop_trending.index.min())/w)\n",
    "lines = pop_trending.plot.line()\n",
    "plt.title('Popularity trending over time')\n",
    "plt.xlabel('Release year')\n",
    "plt.ylabel('Mean of popularity');"
   ]
  },
  {
   "cell_type": "markdown",
   "metadata": {},
   "source": [
    "Trending of popularity showed a fluctuating upward trend from 1960 to 2015."
   ]
  },
  {
   "cell_type": "code",
   "execution_count": 15,
   "metadata": {},
   "outputs": [],
   "source": [
    "#2 How are revenues trending over time?"
   ]
  },
  {
   "cell_type": "code",
   "execution_count": 87,
   "metadata": {
    "scrolled": true
   },
   "outputs": [
    {
     "data": {
      "text/plain": [
       "release_year\n",
       "1960    3.340991e+07\n",
       "1961    7.947167e+07\n",
       "1962    4.856238e+07\n",
       "1963    3.924580e+07\n",
       "1964    5.707603e+07\n",
       "1965    9.057670e+07\n",
       "1966    1.237527e+07\n",
       "1967    1.269224e+08\n",
       "1968    4.367372e+07\n",
       "1969    4.833818e+07\n",
       "1970    7.866032e+07\n",
       "1971    3.964586e+07\n",
       "1972    6.449502e+07\n",
       "1973    1.092939e+08\n",
       "1974    7.811482e+07\n",
       "1975    8.817223e+07\n",
       "1976    6.530237e+07\n",
       "1977    1.400939e+08\n",
       "1978    7.044251e+07\n",
       "1979    8.880802e+07\n",
       "1980    5.999930e+07\n",
       "1981    5.190054e+07\n",
       "1982    6.858276e+07\n",
       "1983    6.314877e+07\n",
       "1984    5.319304e+07\n",
       "1985    5.397841e+07\n",
       "1986    4.978122e+07\n",
       "1987    5.358111e+07\n",
       "1988    4.855097e+07\n",
       "1989    6.729647e+07\n",
       "1990    6.720056e+07\n",
       "1991    5.665942e+07\n",
       "1992    7.155756e+07\n",
       "1993    5.931408e+07\n",
       "1994    5.672917e+07\n",
       "1995    7.530127e+07\n",
       "1996    5.692008e+07\n",
       "1997    7.578340e+07\n",
       "1998    6.047132e+07\n",
       "1999    6.636262e+07\n",
       "2000    6.206358e+07\n",
       "2001    6.852431e+07\n",
       "2002    6.724196e+07\n",
       "2003    6.385821e+07\n",
       "2004    6.315163e+07\n",
       "2005    5.108613e+07\n",
       "2006    4.357665e+07\n",
       "2007    4.747590e+07\n",
       "2008    4.047124e+07\n",
       "2009    4.310504e+07\n",
       "2010    4.622954e+07\n",
       "2011    4.317756e+07\n",
       "2012    4.076129e+07\n",
       "2013    3.568430e+07\n",
       "2014    3.285897e+07\n",
       "2015    3.990509e+07\n",
       "Name: revenue_adj, dtype: float64"
      ]
     },
     "execution_count": 87,
     "metadata": {},
     "output_type": "execute_result"
    }
   ],
   "source": [
    "rev_trending = movie.groupby(['release_year']).revenue_adj.mean()\n",
    "rev_trending"
   ]
  },
  {
   "cell_type": "code",
   "execution_count": 90,
   "metadata": {},
   "outputs": [
    {
     "data": {
      "image/png": "[encoded data removed]",
      "text/plain": [
       "<matplotlib.figure.Figure at 0x7fd5e275a828>"
      ]
     },
     "metadata": {
      "needs_background": "light"
     },
     "output_type": "display_data"
    }
   ],
   "source": [
    "w = 10\n",
    "n = math.ceil((rev_trending.index.max() - \\\n",
    "               rev_trending.index.min())/w)\n",
    "lines = rev_trending.plot.line()\n",
    "plt.title('Revenue trending over time')\n",
    "plt.xlabel('Release year')\n",
    "plt.ylabel('Mean of Revenue');"
   ]
  },
  {
   "cell_type": "markdown",
   "metadata": {},
   "source": [
    "Trending of revenue showed a fluctuating downward trend from 1960 to 2015."
   ]
  },
  {
   "cell_type": "code",
   "execution_count": 94,
   "metadata": {},
   "outputs": [],
   "source": [
    "#3 How is runtime trending over time?"
   ]
  },
  {
   "cell_type": "code",
   "execution_count": 95,
   "metadata": {
    "scrolled": true
   },
   "outputs": [
    {
     "data": {
      "text/plain": [
       "release_year\n",
       "1960    110.656250\n",
       "1961    119.419355\n",
       "1962    124.343750\n",
       "1963    111.323529\n",
       "1964    109.214286\n",
       "1965    118.171429\n",
       "1966    106.891304\n",
       "1967    108.921053\n",
       "1968    109.947368\n",
       "1969    110.066667\n",
       "1970    113.075000\n",
       "1971    107.727273\n",
       "1972    101.950000\n",
       "1973    103.527273\n",
       "1974    107.804348\n",
       "1975    107.363636\n",
       "1976    109.319149\n",
       "1977    108.160714\n",
       "1978    110.076923\n",
       "1979    112.017544\n",
       "1980    107.500000\n",
       "1981    105.865854\n",
       "1982    103.925926\n",
       "1983    103.000000\n",
       "1984    104.442308\n",
       "1985    110.203704\n",
       "1986    100.750000\n",
       "1987    101.951613\n",
       "1988    102.845070\n",
       "1989    105.525926\n",
       "1990    105.651515\n",
       "1991    105.112782\n",
       "1992    107.113636\n",
       "1993    107.587571\n",
       "1994    106.913043\n",
       "1995    107.574713\n",
       "1996    106.167488\n",
       "1997    106.675393\n",
       "1998    105.061905\n",
       "1999    108.861607\n",
       "2000    104.620536\n",
       "2001    108.024896\n",
       "2002    106.969697\n",
       "2003    100.679715\n",
       "2004    105.364821\n",
       "2005    103.481994\n",
       "2006    102.574257\n",
       "2007    100.697674\n",
       "2008    100.596708\n",
       "2009     98.583174\n",
       "2010     99.298947\n",
       "2011     98.507519\n",
       "2012     98.121951\n",
       "2013     96.436728\n",
       "2014     99.002933\n",
       "2015     96.760130\n",
       "Name: runtime, dtype: float64"
      ]
     },
     "execution_count": 95,
     "metadata": {},
     "output_type": "execute_result"
    }
   ],
   "source": [
    "run_trending = movie.groupby(['release_year']).runtime.mean()\n",
    "run_trending"
   ]
  },
  {
   "cell_type": "code",
   "execution_count": 96,
   "metadata": {},
   "outputs": [
    {
     "data": {
      "image/png": "[encoded data removed]",
      "text/plain": [
       "<matplotlib.figure.Figure at 0x7fd5e26d20b8>"
      ]
     },
     "metadata": {
      "needs_background": "light"
     },
     "output_type": "display_data"
    }
   ],
   "source": [
    "w = 10\n",
    "n = math.ceil((run_trending.index.max() - \\\n",
    "               run_trending.index.min())/w)\n",
    "lines = run_trending.plot.line()\n",
    "plt.title('Runtime trending over time')\n",
    "plt.xlabel('Release year')\n",
    "plt.ylabel('Mean of Runtime');"
   ]
  },
  {
   "cell_type": "markdown",
   "metadata": {},
   "source": [
    "Trending of runtime showed a fluctuating downward trend from 1960 to 2015."
   ]
  },
  {
   "cell_type": "code",
   "execution_count": 19,
   "metadata": {},
   "outputs": [],
   "source": [
    "#4 Do top ratings movies always generate big revenue?"
   ]
  },
  {
   "cell_type": "code",
   "execution_count": 110,
   "metadata": {},
   "outputs": [],
   "source": [
    "top_rating = movie.vote_count.max()\n",
    "top_rating_id = movie[movie['vote_count'] == top_rating].imdb_id"
   ]
  },
  {
   "cell_type": "code",
   "execution_count": 109,
   "metadata": {},
   "outputs": [],
   "source": [
    "top_revenue = movie.revenue_adj.max()\n",
    "top_rev_id = movie[movie['revenue_adj'] == top_revenue].imdb_id"
   ]
  },
  {
   "cell_type": "code",
   "execution_count": 113,
   "metadata": {},
   "outputs": [
    {
     "name": "stdout",
     "output_type": "stream",
     "text": [
      "1919    tt1375666\n",
      "Name: imdb_id, dtype: object 1386    tt0499549\n",
      "Name: imdb_id, dtype: object\n"
     ]
    }
   ],
   "source": [
    "print(top_rating_id, top_rev_id)"
   ]
  },
  {
   "cell_type": "markdown",
   "metadata": {},
   "source": [
    "No, it's not. Top rating movie id and top revenue movie id  are different."
   ]
  },
  {
   "cell_type": "code",
   "execution_count": 106,
   "metadata": {},
   "outputs": [],
   "source": [
    "#5 Do higher budget movies always generate big revenue?"
   ]
  },
  {
   "cell_type": "code",
   "execution_count": 114,
   "metadata": {},
   "outputs": [],
   "source": [
    "top_budget = movie.budget_adj.max()\n",
    "top_budget_id = movie[movie['budget_adj'] == top_budget].imdb_id"
   ]
  },
  {
   "cell_type": "code",
   "execution_count": 119,
   "metadata": {},
   "outputs": [
    {
     "name": "stdout",
     "output_type": "stream",
     "text": [
      "2244    tt1032751\n",
      "Name: imdb_id, dtype: object 1386    tt0499549\n",
      "Name: imdb_id, dtype: object\n"
     ]
    }
   ],
   "source": [
    "print(top_budget_id, top_rev_id)"
   ]
  },
  {
   "cell_type": "markdown",
   "metadata": {},
   "source": [
    "No, it's not. Top budget movie id and top revenue movie id are different."
   ]
  },
  {
   "cell_type": "code",
   "execution_count": 23,
   "metadata": {},
   "outputs": [],
   "source": [
    "#6  Is there any impact of vote count on revenue?"
   ]
  },
  {
   "cell_type": "code",
   "execution_count": 120,
   "metadata": {},
   "outputs": [
    {
     "data": {
      "image/png": "[encoded data removed]",
      "text/plain": [
       "<matplotlib.figure.Figure at 0x7fd5e26d22e8>"
      ]
     },
     "metadata": {
      "needs_background": "light"
     },
     "output_type": "display_data"
    }
   ],
   "source": [
    "movie.plot.scatter(x=\"vote_count\", y=\"revenue_adj\");"
   ]
  },
  {
   "cell_type": "markdown",
   "metadata": {},
   "source": [
    "There is no strong impact of vote count on revenue."
   ]
  },
  {
   "cell_type": "markdown",
   "metadata": {},
   "source": [
    "# Conclusions"
   ]
  },
  {
   "cell_type": "markdown",
   "metadata": {},
   "source": [
    "After I cleaned the data there are 10727 rows with non null values and 12 columns. Here are some results that I find.\n",
    "(1) Trending of popularity showed a fluctuating upward trend from 1960 to 2015.\n",
    "\n",
    "(2) Trending of revenue showed a fluctuating downward trend from 1960 to 2015.\n",
    "\n",
    "(3) Trending of runtime showed a fluctuating downward trend from 1960 to 2015.\n",
    "\n",
    "(4) Top rating movie id and top revenue movie id are different.\n",
    "\n",
    "(5) Top budget movie id and top revenue movie id are different.\n",
    "\n",
    "(6) There is no strong impact of vote count on revenue."
   ]
  },
  {
   "cell_type": "markdown",
   "metadata": {},
   "source": [
    "# Limitations"
   ]
  },
  {
   "cell_type": "markdown",
   "metadata": {},
   "source": [
    "The limitations of this case study are:\n",
    "(1) Small sample size\n",
    "(2) Since Kaggle have removed the original version of this dataset, results may not be accurate."
   ]
  },
  {
   "cell_type": "code",
   "execution_count": null,
   "metadata": {},
   "outputs": [],
   "source": []
  }
 ],
 "metadata": {
  "kernelspec": {
   "display_name": "Python 3",
   "language": "python",
   "name": "python3"
  },
  "language_info": {
   "codemirror_mode": {
    "name": "ipython",
    "version": 3
   },
   "file_extension": ".py",
   "mimetype": "text/x-python",
   "name": "python",
   "nbconvert_exporter": "python",
   "pygments_lexer": "ipython3",
   "version": "3.6.3"
  }
 },
 "nbformat": 4,
 "nbformat_minor": 2
}
