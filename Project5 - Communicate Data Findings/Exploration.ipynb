{
 "cells": [
  {
   "cell_type": "markdown",
   "metadata": {
    "slideshow": {
     "slide_type": "slide"
    }
   },
   "source": [
    "# Introduction"
   ]
  },
  {
   "cell_type": "markdown",
   "metadata": {
    "slideshow": {
     "slide_type": "slide"
    }
   },
   "source": [
    "There are 183412 rows in the dataset with 16 features. I select few features and want to explorate data basic on them. Here are few questions that I will ansewer."
   ]
  },
  {
   "cell_type": "markdown",
   "metadata": {
    "slideshow": {
     "slide_type": "slide"
    }
   },
   "source": [
    "# Data wrangling:\n",
    "1. Delete useless columns('start_time', 'end_time', 'start_station_id','start_station_name','start_station_latitude', 'start_station_longitude','end_station_id','end_station_name','end_station_latitude','end_station_longitude', 'bike_share_for_all_trip'])\n",
    "2. Drop rows with null values\n",
    "3. Conver datatype into int\n",
    "4. Add duration_mins & age & age group columns\n",
    "5. Delete duration_mins longer than 88 mins in duration_mins column\n",
    "6. Delete age group older than 80 years old in age_group column"
   ]
  },
  {
   "cell_type": "markdown",
   "metadata": {
    "slideshow": {
     "slide_type": "slide"
    }
   },
   "source": [
    "#Questions:\n",
    "\n",
    "1.What is the average trip length?\n",
    "\n",
    "2.What proportion of rides are longer than 10 minutes?\n",
    "\n",
    "3.Which type of user takes longer rides on average?\n",
    "\n",
    "4.What is the average trip length for Subscribers or Customers? \n",
    "\n",
    "5.Which age of people use sharing bikes most?"
   ]
  },
  {
   "cell_type": "markdown",
   "metadata": {
    "slideshow": {
     "slide_type": "slide"
    }
   },
   "source": [
    "# Visualization\n",
    "Univariate Exploration¶\n",
    "1. Average trip length of each user type\n",
    "2. Average trip length of each age group\n",
    "3. Number of users in each age group\n",
    "\n",
    "Bivariate Exploration\n",
    "1. How does the trip duration distribution vary between customers and subscribers?\n",
    "2. How does the trip duration distribution vary between each age group?\n",
    "3. How does the trip duration distribution vary between male and female?\n",
    "\n",
    "Multivariate Exploration\n",
    "1. Compare the correlation between \"duration_mins\"， \"age_group\" and the other features\n",
    "2. Avgerage trip Duration of user type in different age group"
   ]
  },
  {
   "cell_type": "code",
   "execution_count": 39,
   "metadata": {
    "slideshow": {
     "slide_type": "skip"
    }
   },
   "outputs": [],
   "source": [
    "#Import packages\n",
    "import numpy as np\n",
    "import pandas as pd\n",
    "import matplotlib.pyplot as plt\n",
    "import seaborn as sb\n",
    "\n",
    "%matplotlib inline"
   ]
  },
  {
   "cell_type": "code",
   "execution_count": 40,
   "metadata": {
    "slideshow": {
     "slide_type": "skip"
    }
   },
   "outputs": [],
   "source": [
    "#Read CSV\n",
    "bike = pd.read_csv('./fordgobike-tripdata.csv')"
   ]
  },
  {
   "cell_type": "code",
   "execution_count": 41,
   "metadata": {
    "slideshow": {
     "slide_type": "skip"
    }
   },
   "outputs": [
    {
     "data": {
      "text/plain": [
       "(183412, 16)"
      ]
     },
     "execution_count": 41,
     "metadata": {},
     "output_type": "execute_result"
    }
   ],
   "source": [
    "#Data shape\n",
    "bike.shape"
   ]
  },
  {
   "cell_type": "markdown",
   "metadata": {
    "slideshow": {
     "slide_type": "skip"
    }
   },
   "source": [
    "# Define\n",
    "1. Delete useless columns('start_time', 'end_time', 'start_station_id','start_station_name','start_station_latitude', 'start_station_longitude','end_station_id','end_station_name','end_station_latitude','end_station_longitude', 'bike_share_for_all_trip'])"
   ]
  },
  {
   "cell_type": "code",
   "execution_count": 42,
   "metadata": {
    "slideshow": {
     "slide_type": "skip"
    }
   },
   "outputs": [
    {
     "data": {
      "text/plain": [
       "Index(['duration_sec', 'start_time', 'end_time', 'start_station_id',\n",
       "       'start_station_name', 'start_station_latitude',\n",
       "       'start_station_longitude', 'end_station_id', 'end_station_name',\n",
       "       'end_station_latitude', 'end_station_longitude', 'bike_id', 'user_type',\n",
       "       'member_birth_year', 'member_gender', 'bike_share_for_all_trip'],\n",
       "      dtype='object')"
      ]
     },
     "execution_count": 42,
     "metadata": {},
     "output_type": "execute_result"
    }
   ],
   "source": [
    "#Code\n",
    "bike.columns"
   ]
  },
  {
   "cell_type": "code",
   "execution_count": 43,
   "metadata": {
    "slideshow": {
     "slide_type": "skip"
    }
   },
   "outputs": [],
   "source": [
    "drop_columns = ['start_time', 'end_time', 'start_station_id', 'start_station_name', \\\n",
    "                'start_station_latitude', 'start_station_longitude', 'end_station_id', 'end_station_name',\\\n",
    "       'end_station_latitude', 'end_station_longitude', 'bike_share_for_all_trip']"
   ]
  },
  {
   "cell_type": "code",
   "execution_count": 44,
   "metadata": {
    "slideshow": {
     "slide_type": "skip"
    }
   },
   "outputs": [],
   "source": [
    "bike_clean = bike.drop(columns = drop_columns)"
   ]
  },
  {
   "cell_type": "code",
   "execution_count": 45,
   "metadata": {
    "scrolled": true,
    "slideshow": {
     "slide_type": "skip"
    }
   },
   "outputs": [
    {
     "name": "stdout",
     "output_type": "stream",
     "text": [
      "<class 'pandas.core.frame.DataFrame'>\n",
      "RangeIndex: 183412 entries, 0 to 183411\n",
      "Data columns (total 5 columns):\n",
      "duration_sec         183412 non-null int64\n",
      "bike_id              183412 non-null int64\n",
      "user_type            183412 non-null object\n",
      "member_birth_year    175147 non-null float64\n",
      "member_gender        175147 non-null object\n",
      "dtypes: float64(1), int64(2), object(2)\n",
      "memory usage: 7.0+ MB\n"
     ]
    }
   ],
   "source": [
    "#Test\n",
    "bike_clean.info()"
   ]
  },
  {
   "cell_type": "markdown",
   "metadata": {
    "slideshow": {
     "slide_type": "skip"
    }
   },
   "source": [
    "# Define\n",
    "2. Drop rows with null values"
   ]
  },
  {
   "cell_type": "code",
   "execution_count": 46,
   "metadata": {
    "slideshow": {
     "slide_type": "skip"
    }
   },
   "outputs": [],
   "source": [
    "#Code\n",
    "bike = bike_clean[bike_clean['member_birth_year'].notnull()]"
   ]
  },
  {
   "cell_type": "code",
   "execution_count": 47,
   "metadata": {},
   "outputs": [
    {
     "data": {
      "text/plain": [
       "array(['Male', 'Other', 'Female'], dtype=object)"
      ]
     },
     "execution_count": 47,
     "metadata": {},
     "output_type": "execute_result"
    }
   ],
   "source": [
    "bike.member_gender.unique()"
   ]
  },
  {
   "cell_type": "code",
   "execution_count": 48,
   "metadata": {
    "slideshow": {
     "slide_type": "skip"
    }
   },
   "outputs": [
    {
     "name": "stdout",
     "output_type": "stream",
     "text": [
      "<class 'pandas.core.frame.DataFrame'>\n",
      "Int64Index: 175147 entries, 0 to 183411\n",
      "Data columns (total 5 columns):\n",
      "duration_sec         175147 non-null int64\n",
      "bike_id              175147 non-null int64\n",
      "user_type            175147 non-null object\n",
      "member_birth_year    175147 non-null float64\n",
      "member_gender        175147 non-null object\n",
      "dtypes: float64(1), int64(2), object(2)\n",
      "memory usage: 8.0+ MB\n"
     ]
    }
   ],
   "source": [
    "#Test\n",
    "bike.info()"
   ]
  },
  {
   "cell_type": "markdown",
   "metadata": {
    "slideshow": {
     "slide_type": "skip"
    }
   },
   "source": [
    "# Define"
   ]
  },
  {
   "cell_type": "markdown",
   "metadata": {
    "slideshow": {
     "slide_type": "skip"
    }
   },
   "source": [
    "3. Conver datatype into int"
   ]
  },
  {
   "cell_type": "code",
   "execution_count": 49,
   "metadata": {
    "slideshow": {
     "slide_type": "skip"
    }
   },
   "outputs": [
    {
     "name": "stderr",
     "output_type": "stream",
     "text": [
      "/opt/anaconda3/lib/python3.7/site-packages/ipykernel_launcher.py:2: SettingWithCopyWarning: \n",
      "A value is trying to be set on a copy of a slice from a DataFrame.\n",
      "Try using .loc[row_indexer,col_indexer] = value instead\n",
      "\n",
      "See the caveats in the documentation: http://pandas.pydata.org/pandas-docs/stable/user_guide/indexing.html#returning-a-view-versus-a-copy\n",
      "  \n"
     ]
    }
   ],
   "source": [
    "#Code\n",
    "bike['member_birth_year'] = bike['member_birth_year'].astype(int)"
   ]
  },
  {
   "cell_type": "code",
   "execution_count": 50,
   "metadata": {
    "slideshow": {
     "slide_type": "skip"
    }
   },
   "outputs": [
    {
     "name": "stdout",
     "output_type": "stream",
     "text": [
      "<class 'pandas.core.frame.DataFrame'>\n",
      "Int64Index: 175147 entries, 0 to 183411\n",
      "Data columns (total 5 columns):\n",
      "duration_sec         175147 non-null int64\n",
      "bike_id              175147 non-null int64\n",
      "user_type            175147 non-null object\n",
      "member_birth_year    175147 non-null int64\n",
      "member_gender        175147 non-null object\n",
      "dtypes: int64(3), object(2)\n",
      "memory usage: 8.0+ MB\n"
     ]
    }
   ],
   "source": [
    "bike.info()"
   ]
  },
  {
   "cell_type": "markdown",
   "metadata": {
    "slideshow": {
     "slide_type": "skip"
    }
   },
   "source": [
    "# Define"
   ]
  },
  {
   "cell_type": "markdown",
   "metadata": {
    "slideshow": {
     "slide_type": "skip"
    }
   },
   "source": [
    "4. Add duration_mins & age & age group columns"
   ]
  },
  {
   "cell_type": "code",
   "execution_count": 51,
   "metadata": {
    "scrolled": false,
    "slideshow": {
     "slide_type": "skip"
    }
   },
   "outputs": [
    {
     "name": "stderr",
     "output_type": "stream",
     "text": [
      "/opt/anaconda3/lib/python3.7/site-packages/ipykernel_launcher.py:1: SettingWithCopyWarning: \n",
      "A value is trying to be set on a copy of a slice from a DataFrame.\n",
      "Try using .loc[row_indexer,col_indexer] = value instead\n",
      "\n",
      "See the caveats in the documentation: http://pandas.pydata.org/pandas-docs/stable/user_guide/indexing.html#returning-a-view-versus-a-copy\n",
      "  \"\"\"Entry point for launching an IPython kernel.\n",
      "/opt/anaconda3/lib/python3.7/site-packages/ipykernel_launcher.py:2: SettingWithCopyWarning: \n",
      "A value is trying to be set on a copy of a slice from a DataFrame.\n",
      "Try using .loc[row_indexer,col_indexer] = value instead\n",
      "\n",
      "See the caveats in the documentation: http://pandas.pydata.org/pandas-docs/stable/user_guide/indexing.html#returning-a-view-versus-a-copy\n",
      "  \n"
     ]
    }
   ],
   "source": [
    "bike['duration_mins'] = bike['duration_sec'] // 60\n",
    "bike['age'] = 2019 - bike['member_birth_year']"
   ]
  },
  {
   "cell_type": "code",
   "execution_count": 52,
   "metadata": {
    "slideshow": {
     "slide_type": "skip"
    }
   },
   "outputs": [],
   "source": [
    "def check_age(age):\n",
    "    age_group = []\n",
    "    for age in bike['age']:\n",
    "        if age < 30:\n",
    "            age_group.append('<30')\n",
    "        elif age >= 30 and age <40:\n",
    "            age_group.append('30-40')\n",
    "        elif age >= 40 and age <50:\n",
    "            age_group.append('40-50')\n",
    "        elif age >= 50 and age <60:\n",
    "            age_group.append('50-60')\n",
    "        elif age >= 60 and age <70:\n",
    "            age_group.append('60-70')\n",
    "        elif age >= 70 and age <80:\n",
    "            age_group.append('70-80')\n",
    "        elif age >= 80 and age <90:\n",
    "            age_group.append('80-90')\n",
    "        elif age >= 90 and age <100:\n",
    "            age_group.append('90-100')\n",
    "        elif age >= 100 and age <110:\n",
    "            age_group.append('100-110')\n",
    "        elif age >= 110 and age <120:\n",
    "            age_group.append('110-120')\n",
    "        else:\n",
    "            age_group.append('>120')\n",
    "    return age_group\n"
   ]
  },
  {
   "cell_type": "code",
   "execution_count": 53,
   "metadata": {
    "slideshow": {
     "slide_type": "skip"
    }
   },
   "outputs": [
    {
     "data": {
      "text/plain": [
       "175147"
      ]
     },
     "execution_count": 53,
     "metadata": {},
     "output_type": "execute_result"
    }
   ],
   "source": [
    "age_group = check_age(bike['age'])\n",
    "len(age_group)"
   ]
  },
  {
   "cell_type": "code",
   "execution_count": 54,
   "metadata": {
    "slideshow": {
     "slide_type": "skip"
    }
   },
   "outputs": [
    {
     "name": "stderr",
     "output_type": "stream",
     "text": [
      "/opt/anaconda3/lib/python3.7/site-packages/ipykernel_launcher.py:1: SettingWithCopyWarning: \n",
      "A value is trying to be set on a copy of a slice from a DataFrame.\n",
      "Try using .loc[row_indexer,col_indexer] = value instead\n",
      "\n",
      "See the caveats in the documentation: http://pandas.pydata.org/pandas-docs/stable/user_guide/indexing.html#returning-a-view-versus-a-copy\n",
      "  \"\"\"Entry point for launching an IPython kernel.\n"
     ]
    }
   ],
   "source": [
    "bike['age_group'] = age_group"
   ]
  },
  {
   "cell_type": "markdown",
   "metadata": {},
   "source": [
    "5. Delete duration_mins longer than 88 mins in duration_mins columns"
   ]
  },
  {
   "cell_type": "code",
   "execution_count": 55,
   "metadata": {},
   "outputs": [],
   "source": [
    "pd.options.display.max_rows = 10000"
   ]
  },
  {
   "cell_type": "code",
   "execution_count": 56,
   "metadata": {
    "scrolled": true
   },
   "outputs": [
    {
     "data": {
      "text/plain": [
       "5       15090\n",
       "4       14681\n",
       "6       14365\n",
       "7       13583\n",
       "8       12445\n",
       "3       12207\n",
       "9       10957\n",
       "10       9849\n",
       "11       8555\n",
       "2        8087\n",
       "12       7478\n",
       "13       6354\n",
       "14       5437\n",
       "15       4717\n",
       "16       3944\n",
       "17       3263\n",
       "1        2984\n",
       "18       2743\n",
       "19       2266\n",
       "20       1895\n",
       "21       1581\n",
       "22       1345\n",
       "23       1150\n",
       "24        955\n",
       "25        802\n",
       "26        732\n",
       "27        592\n",
       "28        554\n",
       "29        494\n",
       "30        459\n",
       "31        407\n",
       "32        360\n",
       "33        315\n",
       "34        310\n",
       "35        255\n",
       "36        238\n",
       "37        222\n",
       "38        216\n",
       "39        193\n",
       "40        181\n",
       "41        158\n",
       "42        153\n",
       "43        131\n",
       "44        127\n",
       "45        100\n",
       "46         88\n",
       "48         70\n",
       "55         65\n",
       "47         65\n",
       "52         64\n",
       "49         64\n",
       "50         63\n",
       "51         52\n",
       "53         52\n",
       "57         51\n",
       "54         51\n",
       "59         49\n",
       "58         48\n",
       "60         45\n",
       "56         45\n",
       "72         32\n",
       "66         30\n",
       "63         29\n",
       "62         29\n",
       "64         27\n",
       "67         27\n",
       "71         25\n",
       "77         25\n",
       "73         24\n",
       "61         24\n",
       "69         22\n",
       "93         19\n",
       "81         18\n",
       "91         18\n",
       "79         18\n",
       "104        18\n",
       "86         17\n",
       "75         17\n",
       "70         16\n",
       "68         16\n",
       "65         16\n",
       "78         15\n",
       "88         15\n",
       "82         15\n",
       "112        15\n",
       "103        13\n",
       "83         13\n",
       "101        13\n",
       "84         13\n",
       "92         12\n",
       "110        12\n",
       "98         11\n",
       "74         11\n",
       "136        11\n",
       "106        10\n",
       "80         10\n",
       "94         10\n",
       "85          9\n",
       "134         9\n",
       "76          9\n",
       "107         9\n",
       "122         8\n",
       "117         8\n",
       "90          8\n",
       "108         8\n",
       "128         8\n",
       "102         8\n",
       "99          8\n",
       "97          8\n",
       "138         7\n",
       "100         7\n",
       "139         7\n",
       "109         7\n",
       "89          7\n",
       "120         7\n",
       "111         7\n",
       "137         7\n",
       "125         6\n",
       "126         6\n",
       "113         6\n",
       "123         6\n",
       "129         6\n",
       "116         6\n",
       "87          6\n",
       "95          6\n",
       "119         6\n",
       "199         5\n",
       "144         5\n",
       "166         5\n",
       "146         5\n",
       "96          5\n",
       "114         5\n",
       "148         5\n",
       "167         4\n",
       "141         4\n",
       "200         4\n",
       "217         4\n",
       "159         4\n",
       "223         4\n",
       "131         4\n",
       "168         4\n",
       "147         4\n",
       "157         4\n",
       "196         3\n",
       "265         3\n",
       "197         3\n",
       "195         3\n",
       "566         3\n",
       "153         3\n",
       "121         3\n",
       "165         3\n",
       "161         3\n",
       "169         3\n",
       "124         3\n",
       "176         3\n",
       "177         3\n",
       "179         3\n",
       "193         3\n",
       "309         3\n",
       "118         3\n",
       "132         3\n",
       "184         3\n",
       "185         3\n",
       "133         3\n",
       "279         3\n",
       "135         3\n",
       "203         3\n",
       "143         3\n",
       "105         3\n",
       "145         3\n",
       "220         3\n",
       "353         3\n",
       "230         3\n",
       "151         3\n",
       "202         2\n",
       "178         2\n",
       "248         2\n",
       "181         2\n",
       "344         2\n",
       "310         2\n",
       "216         2\n",
       "421         2\n",
       "127         2\n",
       "233         2\n",
       "568         2\n",
       "213         2\n",
       "1209        2\n",
       "186         2\n",
       "115         2\n",
       "164         2\n",
       "259         2\n",
       "228         2\n",
       "544         2\n",
       "162         2\n",
       "226         2\n",
       "293         2\n",
       "296         2\n",
       "740         2\n",
       "170         2\n",
       "554         2\n",
       "221         2\n",
       "171         2\n",
       "130         2\n",
       "160         2\n",
       "898         2\n",
       "316         2\n",
       "174         2\n",
       "361         2\n",
       "229         2\n",
       "280         2\n",
       "155         2\n",
       "334         2\n",
       "283         2\n",
       "208         2\n",
       "1049        2\n",
       "662         2\n",
       "152         2\n",
       "239         2\n",
       "262         2\n",
       "332         2\n",
       "149         2\n",
       "209         2\n",
       "210         2\n",
       "1409        1\n",
       "272         1\n",
       "150         1\n",
       "288         1\n",
       "266         1\n",
       "792         1\n",
       "257         1\n",
       "1040        1\n",
       "277         1\n",
       "903         1\n",
       "527         1\n",
       "668         1\n",
       "536         1\n",
       "417         1\n",
       "520         1\n",
       "534         1\n",
       "545         1\n",
       "780         1\n",
       "1166        1\n",
       "512         1\n",
       "1160        1\n",
       "256         1\n",
       "649         1\n",
       "1037        1\n",
       "546         1\n",
       "163         1\n",
       "407         1\n",
       "258         1\n",
       "287         1\n",
       "671         1\n",
       "787         1\n",
       "788         1\n",
       "1053        1\n",
       "797         1\n",
       "275         1\n",
       "1051        1\n",
       "773         1\n",
       "413         1\n",
       "410         1\n",
       "276         1\n",
       "260         1\n",
       "156         1\n",
       "285         1\n",
       "1043        1\n",
       "644         1\n",
       "286         1\n",
       "1155        1\n",
       "394         1\n",
       "1044        1\n",
       "261         1\n",
       "281         1\n",
       "1163        1\n",
       "771         1\n",
       "1030        1\n",
       "657         1\n",
       "899         1\n",
       "154         1\n",
       "803         1\n",
       "395         1\n",
       "1182        1\n",
       "798         1\n",
       "402         1\n",
       "786         1\n",
       "1170        1\n",
       "511         1\n",
       "931         1\n",
       "873         1\n",
       "1125        1\n",
       "486         1\n",
       "742         1\n",
       "231         1\n",
       "359         1\n",
       "232         1\n",
       "874         1\n",
       "238         1\n",
       "1386        1\n",
       "236         1\n",
       "364         1\n",
       "237         1\n",
       "365         1\n",
       "621         1\n",
       "869         1\n",
       "357         1\n",
       "996         1\n",
       "356         1\n",
       "227         1\n",
       "354         1\n",
       "609         1\n",
       "225         1\n",
       "608         1\n",
       "352         1\n",
       "1375        1\n",
       "351         1\n",
       "862         1\n",
       "859         1\n",
       "603         1\n",
       "219         1\n",
       "858         1\n",
       "1133        1\n",
       "622         1\n",
       "292         1\n",
       "1018        1\n",
       "249         1\n",
       "505         1\n",
       "633         1\n",
       "250         1\n",
       "378         1\n",
       "506         1\n",
       "251         1\n",
       "750         1\n",
       "252         1\n",
       "1020        1\n",
       "253         1\n",
       "381         1\n",
       "765         1\n",
       "893         1\n",
       "632         1\n",
       "502         1\n",
       "373         1\n",
       "245         1\n",
       "371         1\n",
       "243         1\n",
       "498         1\n",
       "370         1\n",
       "242         1\n",
       "881         1\n",
       "497         1\n",
       "369         1\n",
       "240         1\n",
       "1391        1\n",
       "1007        1\n",
       "1390        1\n",
       "878         1\n",
       "346         1\n",
       "1240        1\n",
       "471         1\n",
       "255         1\n",
       "947         1\n",
       "438         1\n",
       "311         1\n",
       "567         1\n",
       "823         1\n",
       "441         1\n",
       "1210        1\n",
       "215         1\n",
       "187         1\n",
       "956         1\n",
       "189         1\n",
       "190         1\n",
       "574         1\n",
       "830         1\n",
       "307         1\n",
       "306         1\n",
       "687         1\n",
       "302         1\n",
       "1325        1\n",
       "429         1\n",
       "428         1\n",
       "1066        1\n",
       "426         1\n",
       "553         1\n",
       "1064        1\n",
       "936         1\n",
       "1191        1\n",
       "935         1\n",
       "423         1\n",
       "1060        1\n",
       "932         1\n",
       "191         1\n",
       "447         1\n",
       "575         1\n",
       "846         1\n",
       "214         1\n",
       "597         1\n",
       "979         1\n",
       "467         1\n",
       "211         1\n",
       "1234        1\n",
       "722         1\n",
       "466         1\n",
       "721         1\n",
       "1232        1\n",
       "1359        1\n",
       "1103        1\n",
       "335         1\n",
       "207         1\n",
       "1101        1\n",
       "960         1\n",
       "333         1\n",
       "204         1\n",
       "714         1\n",
       "329         1\n",
       "201         1\n",
       "328         1\n",
       "582         1\n",
       "325         1\n",
       "324         1\n",
       "323         1\n",
       "1090        1\n",
       "194         1\n",
       "449         1\n",
       "321         1\n",
       "826         1\n",
       "Name: duration_mins, dtype: int64"
      ]
     },
     "execution_count": 56,
     "metadata": {},
     "output_type": "execute_result"
    }
   ],
   "source": [
    "a = bike.duration_mins.value_counts()\n",
    "a"
   ]
  },
  {
   "cell_type": "code",
   "execution_count": 64,
   "metadata": {},
   "outputs": [],
   "source": [
    "bike = bike.query('duration_mins <= 88')"
   ]
  },
  {
   "cell_type": "markdown",
   "metadata": {},
   "source": [
    "6. Delete age group older than 80 years old in age_group column"
   ]
  },
  {
   "cell_type": "code",
   "execution_count": 94,
   "metadata": {},
   "outputs": [],
   "source": [
    "bike = bike.query('age_group == [\"<30\", \"30-40\", \"40-50\", \"50-60\", \"60-70\", \"70-80\"]')"
   ]
  },
  {
   "cell_type": "code",
   "execution_count": 96,
   "metadata": {
    "slideshow": {
     "slide_type": "skip"
    }
   },
   "outputs": [],
   "source": [
    "bike.to_csv('bike.csv')"
   ]
  },
  {
   "cell_type": "code",
   "execution_count": 97,
   "metadata": {
    "slideshow": {
     "slide_type": "skip"
    }
   },
   "outputs": [
    {
     "name": "stdout",
     "output_type": "stream",
     "text": [
      "<class 'pandas.core.frame.DataFrame'>\n",
      "Int64Index: 174127 entries, 4 to 183411\n",
      "Data columns (total 8 columns):\n",
      "duration_sec         174127 non-null int64\n",
      "bike_id              174127 non-null int64\n",
      "user_type            174127 non-null object\n",
      "member_birth_year    174127 non-null int64\n",
      "member_gender        174127 non-null object\n",
      "duration_mins        174127 non-null int64\n",
      "age                  174127 non-null int64\n",
      "age_group            174127 non-null object\n",
      "dtypes: int64(5), object(3)\n",
      "memory usage: 12.0+ MB\n"
     ]
    }
   ],
   "source": [
    "bike.info()"
   ]
  },
  {
   "cell_type": "markdown",
   "metadata": {
    "slideshow": {
     "slide_type": "skip"
    }
   },
   "source": [
    "# Questions"
   ]
  },
  {
   "cell_type": "markdown",
   "metadata": {
    "slideshow": {
     "slide_type": "slide"
    }
   },
   "source": [
    "1.What is the average trip length?"
   ]
  },
  {
   "cell_type": "code",
   "execution_count": 98,
   "metadata": {
    "slideshow": {
     "slide_type": "slide"
    }
   },
   "outputs": [
    {
     "name": "stdout",
     "output_type": "stream",
     "text": [
      "The average trip length is 10.0 mintues.\n"
     ]
    }
   ],
   "source": [
    "avg_second = bike.duration_sec.mean()\n",
    "avg_mins = avg_second // 60\n",
    "print ('The average trip length is {} mintues.'.format(avg_mins))"
   ]
  },
  {
   "cell_type": "markdown",
   "metadata": {
    "slideshow": {
     "slide_type": "slide"
    }
   },
   "source": [
    "2.What proportion of rides are longer than 10 minutes?"
   ]
  },
  {
   "cell_type": "code",
   "execution_count": 99,
   "metadata": {
    "slideshow": {
     "slide_type": "skip"
    }
   },
   "outputs": [],
   "source": [
    "pro_ride_long_10 = (bike[bike['duration_mins'] > 10].count()[0] / bike.shape[0])"
   ]
  },
  {
   "cell_type": "code",
   "execution_count": 100,
   "metadata": {
    "slideshow": {
     "slide_type": "slide"
    }
   },
   "outputs": [
    {
     "name": "stdout",
     "output_type": "stream",
     "text": [
      "The proportion of rides that longer than 10 minutes is 34%.\n"
     ]
    }
   ],
   "source": [
    "print ('The proportion of rides that longer than 10 minutes is {0:.0%}.'.format(pro_ride_long_10))"
   ]
  },
  {
   "cell_type": "markdown",
   "metadata": {
    "slideshow": {
     "slide_type": "slide"
    }
   },
   "source": [
    "3.Which type of user takes longer rides on average?"
   ]
  },
  {
   "cell_type": "code",
   "execution_count": 101,
   "metadata": {
    "slideshow": {
     "slide_type": "skip"
    }
   },
   "outputs": [
    {
     "data": {
      "text/plain": [
       "(15.494472920397703, 9.464941051325237)"
      ]
     },
     "execution_count": 101,
     "metadata": {},
     "output_type": "execute_result"
    }
   ],
   "source": [
    "Cus_avg_mins = bike.groupby(['user_type']).duration_mins.mean()[0]\n",
    "Sub_avg_mins = bike.groupby(['user_type']).duration_mins.mean()[1]\n",
    "Cus_avg_mins,Sub_avg_mins"
   ]
  },
  {
   "cell_type": "code",
   "execution_count": 102,
   "metadata": {
    "slideshow": {
     "slide_type": "slide"
    }
   },
   "outputs": [
    {
     "name": "stdout",
     "output_type": "stream",
     "text": [
      "Customers take longer rides on average than Subscribers.\n"
     ]
    }
   ],
   "source": [
    "print ('{} take longer rides on average than {}.'.format('Customers','Subscribers'))"
   ]
  },
  {
   "cell_type": "markdown",
   "metadata": {
    "slideshow": {
     "slide_type": "slide"
    }
   },
   "source": [
    "4.What is the average trip length for Subscribers or Customers?"
   ]
  },
  {
   "cell_type": "code",
   "execution_count": 103,
   "metadata": {
    "slideshow": {
     "slide_type": "skip"
    }
   },
   "outputs": [
    {
     "data": {
      "text/plain": [
       "(15.0, 9.0)"
      ]
     },
     "execution_count": 103,
     "metadata": {},
     "output_type": "execute_result"
    }
   ],
   "source": [
    "Cus_avg_mins = bike.groupby(['user_type']).duration_mins.mean()[0].round()\n",
    "Sub_avg_mins = bike.groupby(['user_type']).duration_mins.mean()[1].round()\n",
    "Cus_avg_mins,Sub_avg_mins"
   ]
  },
  {
   "cell_type": "code",
   "execution_count": 104,
   "metadata": {
    "slideshow": {
     "slide_type": "slide"
    }
   },
   "outputs": [
    {
     "name": "stdout",
     "output_type": "stream",
     "text": [
      "The average trip length of Customers is 15.0 mintues and the average trip length of Subscribers 9.0 mintues.\n"
     ]
    }
   ],
   "source": [
    "print ('The average trip length of Customers is {} mintues and the average trip length of Subscribers {} mintues.'.format(\\\n",
    "                                                                                        Cus_avg_mins,Sub_avg_mins))"
   ]
  },
  {
   "cell_type": "markdown",
   "metadata": {
    "slideshow": {
     "slide_type": "slide"
    }
   },
   "source": [
    "5.Which age of people use sharing bikes most?"
   ]
  },
  {
   "cell_type": "code",
   "execution_count": 105,
   "metadata": {
    "slideshow": {
     "slide_type": "skip"
    }
   },
   "outputs": [],
   "source": [
    "pd.options.display.max_rows = 300"
   ]
  },
  {
   "cell_type": "code",
   "execution_count": 106,
   "metadata": {
    "scrolled": true,
    "slideshow": {
     "slide_type": "skip"
    }
   },
   "outputs": [],
   "source": [
    "mode_age = bike.age.mode()[0]"
   ]
  },
  {
   "cell_type": "code",
   "execution_count": 107,
   "metadata": {
    "slideshow": {
     "slide_type": "slide"
    }
   },
   "outputs": [
    {
     "name": "stdout",
     "output_type": "stream",
     "text": [
      "People at 31 years old are the most age group use sharing bike.\n"
     ]
    }
   ],
   "source": [
    "print ('People at {} years old are the most age group use sharing bike.'.format(mode_age))"
   ]
  },
  {
   "cell_type": "markdown",
   "metadata": {
    "slideshow": {
     "slide_type": "slide"
    }
   },
   "source": [
    "# Visualization\n",
    "Univariate Exploration¶\n",
    "1. Average trip length of each user type\n",
    "2. Average trip length of each age group\n",
    "3. Number of users in each age group\n",
    "\n",
    "Bivariate Exploration\n",
    "1. How does the trip duration distribution vary between customers and subscribers?\n",
    "2. How does the trip duration distribution vary between each age group?\n",
    "3. How does the trip duration distribution vary between male and female?\n",
    "\n",
    "Multivariate Exploration\n",
    "1. Compare the correlation between \"duration_mins\"， \"age_group\" and the other features\n",
    "2. Avgerage trip Duration of user type in different age group"
   ]
  },
  {
   "cell_type": "markdown",
   "metadata": {
    "slideshow": {
     "slide_type": "slide"
    }
   },
   "source": [
    "# Univariate Exploration"
   ]
  },
  {
   "cell_type": "markdown",
   "metadata": {
    "slideshow": {
     "slide_type": "slide"
    }
   },
   "source": [
    "1. Average trip length of each user type"
   ]
  },
  {
   "cell_type": "code",
   "execution_count": 108,
   "metadata": {
    "slideshow": {
     "slide_type": "skip"
    }
   },
   "outputs": [
    {
     "data": {
      "text/plain": [
       "user_type\n",
       "Customer      15.0\n",
       "Subscriber     9.0\n",
       "Name: duration_mins, dtype: float64"
      ]
     },
     "execution_count": 108,
     "metadata": {},
     "output_type": "execute_result"
    }
   ],
   "source": [
    "df = bike.groupby(['user_type']).duration_mins.mean().round()\n",
    "df"
   ]
  },
  {
   "cell_type": "code",
   "execution_count": 109,
   "metadata": {
    "slideshow": {
     "slide_type": "slide"
    }
   },
   "outputs": [
    {
     "data": {
      "text/plain": [
       "Text(0, 0.5, 'Average trip length')"
      ]
     },
     "execution_count": 109,
     "metadata": {},
     "output_type": "execute_result"
    },
    {
     "data": {
      "image/png": "[encoded data removed]",
      "text/plain": [
       "<Figure size 432x288 with 1 Axes>"
      ]
     },
     "metadata": {
      "needs_background": "light"
     },
     "output_type": "display_data"
    }
   ],
   "source": [
    "df.plot(kind = 'bar');\n",
    "plt.title('Average trip length of each user type')\n",
    "plt.xlabel('User type')\n",
    "plt.ylabel('Average trip length')"
   ]
  },
  {
   "cell_type": "markdown",
   "metadata": {
    "slideshow": {
     "slide_type": "slide"
    }
   },
   "source": [
    "2. Average trip length of each age group"
   ]
  },
  {
   "cell_type": "code",
   "execution_count": 110,
   "metadata": {
    "slideshow": {
     "slide_type": "skip"
    }
   },
   "outputs": [
    {
     "data": {
      "text/plain": [
       "array([45, 60, 36, 30, 31, 27, 23, 26, 29, 38, 44, 41, 35, 28, 22, 33, 19,\n",
       "       37, 24, 39, 46, 34, 48, 47, 40, 52, 21, 25, 42, 20, 32, 50, 56, 43,\n",
       "       55, 54, 58, 51, 53, 57, 65, 61, 59, 49, 63, 62, 74, 67, 71, 68, 78,\n",
       "       69, 70, 66, 64, 73, 72, 76, 77, 18, 75])"
      ]
     },
     "execution_count": 110,
     "metadata": {},
     "output_type": "execute_result"
    }
   ],
   "source": [
    "bike.age.unique()"
   ]
  },
  {
   "cell_type": "code",
   "execution_count": 111,
   "metadata": {
    "slideshow": {
     "slide_type": "skip"
    }
   },
   "outputs": [],
   "source": [
    "age_group_length = bike.groupby(['age_group']).duration_mins.mean().round()"
   ]
  },
  {
   "cell_type": "code",
   "execution_count": 112,
   "metadata": {
    "slideshow": {
     "slide_type": "skip"
    }
   },
   "outputs": [
    {
     "data": {
      "text/plain": [
       "age_group\n",
       "<30      10.0\n",
       "30-40    10.0\n",
       "40-50    10.0\n",
       "50-60    11.0\n",
       "60-70    12.0\n",
       "70-80    11.0\n",
       "Name: duration_mins, dtype: float64"
      ]
     },
     "execution_count": 112,
     "metadata": {},
     "output_type": "execute_result"
    }
   ],
   "source": [
    "df = age_group_length.loc[[\"<30\", \"30-40\", \"40-50\", \"50-60\", \"60-70\", \"70-80\"]]\n",
    "df"
   ]
  },
  {
   "cell_type": "code",
   "execution_count": 113,
   "metadata": {
    "slideshow": {
     "slide_type": "slide"
    }
   },
   "outputs": [
    {
     "data": {
      "image/png": "[encoded data removed]",
      "text/plain": [
       "<Figure size 432x288 with 1 Axes>"
      ]
     },
     "metadata": {
      "needs_background": "light"
     },
     "output_type": "display_data"
    }
   ],
   "source": [
    "df.plot(kind = 'bar');\n",
    "plt.title('Average trip length of each age group');\n",
    "plt.xlabel('Age group');\n",
    "plt.ylabel('Average trip length');"
   ]
  },
  {
   "cell_type": "markdown",
   "metadata": {
    "slideshow": {
     "slide_type": "slide"
    }
   },
   "source": [
    " The average trip length of people at 60-70 years old are 12 mintues."
   ]
  },
  {
   "cell_type": "markdown",
   "metadata": {
    "slideshow": {
     "slide_type": "slide"
    }
   },
   "source": [
    "3. Number of users in each age group"
   ]
  },
  {
   "cell_type": "code",
   "execution_count": 114,
   "metadata": {
    "slideshow": {
     "slide_type": "skip"
    }
   },
   "outputs": [
    {
     "data": {
      "text/plain": [
       "30-40    68763\n",
       "<30      65134\n",
       "40-50    24253\n",
       "50-60    12044\n",
       "60-70     3465\n",
       "70-80      468\n",
       "Name: age_group, dtype: int64"
      ]
     },
     "execution_count": 114,
     "metadata": {},
     "output_type": "execute_result"
    }
   ],
   "source": [
    "num_age_group = bike.age_group.value_counts()\n",
    "num_age_group"
   ]
  },
  {
   "cell_type": "code",
   "execution_count": 124,
   "metadata": {
    "slideshow": {
     "slide_type": "skip"
    }
   },
   "outputs": [
    {
     "data": {
      "text/plain": [
       "<30      65134\n",
       "30-40    68763\n",
       "40-50    24253\n",
       "50-60    12044\n",
       "60-70     3465\n",
       "70-80      468\n",
       "Name: age_group, dtype: int64"
      ]
     },
     "execution_count": 124,
     "metadata": {},
     "output_type": "execute_result"
    }
   ],
   "source": [
    "num_age_group = num_age_group.loc[[\"<30\", \"30-40\", \"40-50\", \"50-60\", \"60-70\", \"70-80\"]]\n",
    "num_age_group"
   ]
  },
  {
   "cell_type": "code",
   "execution_count": 116,
   "metadata": {
    "slideshow": {
     "slide_type": "slide"
    }
   },
   "outputs": [
    {
     "data": {
      "image/png": "[encoded data removed]",
      "text/plain": [
       "<Figure size 432x288 with 1 Axes>"
      ]
     },
     "metadata": {
      "needs_background": "light"
     },
     "output_type": "display_data"
    }
   ],
   "source": [
    "num_age_group.plot(kind = 'bar');\n",
    "plt.title('Number of users in each age group');\n",
    "plt.xlabel('Age group');\n",
    "plt.ylabel('Number of users');"
   ]
  },
  {
   "cell_type": "markdown",
   "metadata": {
    "slideshow": {
     "slide_type": "slide"
    }
   },
   "source": [
    "There are 68763 users at 30 to 40 years old which is the highest number of all."
   ]
  },
  {
   "cell_type": "markdown",
   "metadata": {
    "slideshow": {
     "slide_type": "slide"
    }
   },
   "source": [
    "# Bivariate Exploration"
   ]
  },
  {
   "cell_type": "markdown",
   "metadata": {
    "slideshow": {
     "slide_type": "slide"
    }
   },
   "source": [
    "1.How does the trip duration distribution vary between customers and subscribers?"
   ]
  },
  {
   "cell_type": "code",
   "execution_count": 129,
   "metadata": {
    "slideshow": {
     "slide_type": "slide"
    }
   },
   "outputs": [
    {
     "data": {
      "image/png": "[encoded data removed]",
      "text/plain": [
       "<Figure size 432x288 with 1 Axes>"
      ]
     },
     "metadata": {
      "needs_background": "light"
     },
     "output_type": "display_data"
    }
   ],
   "source": [
    "sb.violinplot(data=bike, x='user_type', y='duration_mins');\n",
    "plt.xlabel('User Type');\n",
    "plt.ylabel('Trip length in Minutes');"
   ]
  },
  {
   "cell_type": "markdown",
   "metadata": {
    "slideshow": {
     "slide_type": "slide"
    }
   },
   "source": [
    "According to this violinplot chart, subscribers'trip duration length is much narrower than customers. It means that customers usually use rent bike for longer trips and subscribes are likely rent bike for short trips."
   ]
  },
  {
   "cell_type": "markdown",
   "metadata": {
    "slideshow": {
     "slide_type": "slide"
    }
   },
   "source": [
    "2.How does the trip duration distribution vary between each age group?"
   ]
  },
  {
   "cell_type": "code",
   "execution_count": 130,
   "metadata": {
    "slideshow": {
     "slide_type": "slide"
    }
   },
   "outputs": [
    {
     "data": {
      "image/png": "[encoded data removed]",
      "text/plain": [
       "<Figure size 432x288 with 1 Axes>"
      ]
     },
     "metadata": {
      "needs_background": "light"
     },
     "output_type": "display_data"
    }
   ],
   "source": [
    "sb.boxplot(data=bike, x='age_group', y='duration_mins', order = [\"<30\", \"30-40\", \"40-50\", \"50-60\", \"60-70\", \"70-80\"]);\n",
    "plt.xlabel('Age Group');\n",
    "plt.ylabel('Trip length in Minutes');"
   ]
  },
  {
   "cell_type": "markdown",
   "metadata": {
    "slideshow": {
     "slide_type": "slide"
    }
   },
   "source": [
    "There aren't a huge different between age groups. People at 60 to 70 years old has higher median and longer IQR."
   ]
  },
  {
   "cell_type": "markdown",
   "metadata": {
    "slideshow": {
     "slide_type": "slide"
    }
   },
   "source": [
    "3.How does the trip duration distribution vary between male and female?"
   ]
  },
  {
   "cell_type": "code",
   "execution_count": 119,
   "metadata": {
    "slideshow": {
     "slide_type": "slide"
    }
   },
   "outputs": [
    {
     "data": {
      "image/png": "[encoded data removed]",
      "text/plain": [
       "<Figure size 432x288 with 1 Axes>"
      ]
     },
     "metadata": {
      "needs_background": "light"
     },
     "output_type": "display_data"
    }
   ],
   "source": [
    "sb.violinplot(data=bike, x='member_gender', y='duration_mins');\n",
    "plt.xlabel('Member gender');\n",
    "plt.ylabel('Trip Duration in Minutes');"
   ]
  },
  {
   "cell_type": "markdown",
   "metadata": {
    "slideshow": {
     "slide_type": "slide"
    }
   },
   "source": [
    "Male riders are likely rent bike for short trips compare to female and other."
   ]
  },
  {
   "cell_type": "markdown",
   "metadata": {
    "slideshow": {
     "slide_type": "slide"
    }
   },
   "source": [
    "# Multivariate Exploration"
   ]
  },
  {
   "cell_type": "markdown",
   "metadata": {
    "slideshow": {
     "slide_type": "slide"
    }
   },
   "source": [
    "1. Compare the correlation between \"duration_mins\"， \"age_group\" and the other features"
   ]
  },
  {
   "cell_type": "code",
   "execution_count": 132,
   "metadata": {
    "slideshow": {
     "slide_type": "slide"
    }
   },
   "outputs": [
    {
     "data": {
      "image/png": "[encoded data removed]",
      "text/plain": [
       "<Figure size 432x288 with 2 Axes>"
      ]
     },
     "metadata": {
      "needs_background": "light"
     },
     "output_type": "display_data"
    }
   ],
   "source": [
    "sb.heatmap(bike.corr(), annot = True, fmt = '.2f', cmap = 'vlag_r', center = 0);"
   ]
  },
  {
   "cell_type": "markdown",
   "metadata": {
    "slideshow": {
     "slide_type": "slide"
    }
   },
   "source": [
    "Compare the correlation between \"duration_mins\"， \"age_group\" and the other features. Correlation between \"duration_mins\" and \"age_group\" is 0.02."
   ]
  },
  {
   "cell_type": "markdown",
   "metadata": {
    "slideshow": {
     "slide_type": "slide"
    }
   },
   "source": [
    "2. Avgerage trip Duration of user type in different age group"
   ]
  },
  {
   "cell_type": "code",
   "execution_count": 139,
   "metadata": {
    "slideshow": {
     "slide_type": "slide"
    }
   },
   "outputs": [
    {
     "data": {
      "image/png": "[encoded data removed]",
      "text/plain": [
       "<Figure size 432x288 with 1 Axes>"
      ]
     },
     "metadata": {
      "needs_background": "light"
     },
     "output_type": "display_data"
    }
   ],
   "source": [
    "sb.pointplot(data=bike, x='age_group', y='duration_mins', hue='user_type', order = [\"<30\", \"30-40\", \"40-50\", \"50-60\", \"60-70\", \"70-80\"]);\n",
    "plt.xlabel('Age group');\n",
    "plt.ylabel('Avgerage trip Duration in Minute');"
   ]
  },
  {
   "cell_type": "markdown",
   "metadata": {
    "slideshow": {
     "slide_type": "slide"
    }
   },
   "source": [
    "We can easily  to find changes in avgerage trip duration to age group. The avgerage trip duration is rising for subscriber as the age arises while it decreases at 60-70 age group, however, avgerage trip duration change up and down for customer."
   ]
  }
 ],
 "metadata": {
  "kernelspec": {
   "display_name": "Python 3",
   "language": "python",
   "name": "python3"
  },
  "language_info": {
   "codemirror_mode": {
    "name": "ipython",
    "version": 3
   },
   "file_extension": ".py",
   "mimetype": "text/x-python",
   "name": "python",
   "nbconvert_exporter": "python",
   "pygments_lexer": "ipython3",
   "version": "3.7.4"
  }
 },
 "nbformat": 4,
 "nbformat_minor": 2
}
